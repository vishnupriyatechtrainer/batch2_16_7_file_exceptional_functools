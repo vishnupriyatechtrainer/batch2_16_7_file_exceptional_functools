{
 "cells": [
  {
   "cell_type": "code",
   "execution_count": null,
   "id": "7a62413c-122d-4864-80ec-fd2556c4cb59",
   "metadata": {},
   "outputs": [],
   "source": [
    "# functools\n",
    "# exceptional handling\n",
    "# file handling"
   ]
  },
  {
   "cell_type": "markdown",
   "id": "c1da3723-c566-48d4-980b-d79ec74f898e",
   "metadata": {},
   "source": [
    "functools"
   ]
  },
  {
   "cell_type": "code",
   "execution_count": null,
   "id": "9bc7c6b9-cbd4-40bc-af7a-6ddefd505e05",
   "metadata": {},
   "outputs": [],
   "source": [
    "in python  map() , filter() , reduce()\n",
    "list and iterables datatypes\n",
    "\n",
    "lambda function - anonymous function\n"
   ]
  },
  {
   "cell_type": "code",
   "execution_count": 1,
   "id": "27c2eb31-d5d4-4c90-a648-527691775634",
   "metadata": {},
   "outputs": [
    {
     "name": "stdin",
     "output_type": "stream",
     "text": [
      "enter a value: 10\n",
      "enter b value: 2\n"
     ]
    },
    {
     "name": "stdout",
     "output_type": "stream",
     "text": [
      "12\n"
     ]
    }
   ],
   "source": [
    "a=int(input('enter a value:'))\n",
    "b=int(input('enter b value:'))\n",
    "def add(a,b):\n",
    "    c=a+b\n",
    "    print(c)\n",
    "add(a,b)"
   ]
  },
  {
   "cell_type": "code",
   "execution_count": null,
   "id": "32b5e90b-f201-45bc-b45b-0048894debc3",
   "metadata": {},
   "outputs": [],
   "source": [
    "lambda function - anonymous "
   ]
  },
  {
   "cell_type": "code",
   "execution_count": null,
   "id": "ebe9d4e1-7fec-40ee-be24-1227f52c81be",
   "metadata": {},
   "outputs": [],
   "source": [
    "# lambda arguments : expression - syntax"
   ]
  },
  {
   "cell_type": "code",
   "execution_count": 2,
   "id": "c64f466b-6448-4f39-b7f0-0baf9a9c9b71",
   "metadata": {},
   "outputs": [
    {
     "name": "stdout",
     "output_type": "stream",
     "text": [
      "12\n"
     ]
    }
   ],
   "source": [
    "add = lambda a,b : a+b\n",
    "d=add(10,2)\n",
    "print(d)"
   ]
  },
  {
   "cell_type": "code",
   "execution_count": 3,
   "id": "e231e619-ca99-4bf0-951e-2dd496732fa3",
   "metadata": {},
   "outputs": [
    {
     "name": "stdout",
     "output_type": "stream",
     "text": [
      "16\n"
     ]
    }
   ],
   "source": [
    "square = lambda a:a**2\n",
    "d=square(4)\n",
    "print(d)"
   ]
  },
  {
   "cell_type": "code",
   "execution_count": 4,
   "id": "811c7535-528d-42a4-b577-8e22f483a697",
   "metadata": {},
   "outputs": [
    {
     "name": "stdin",
     "output_type": "stream",
     "text": [
      "enter the principal: 10000\n",
      "enter the no of years: 2\n",
      "enter rate of interest: 2.5\n",
      "enter emi or si emi\n"
     ]
    },
    {
     "name": "stdout",
     "output_type": "stream",
     "text": [
      "250.0\n"
     ]
    }
   ],
   "source": [
    "sicalc = lambda p,n,r:(p*n*r)/100\n",
    "emicalc=lambda p,n,r:(p*n*r)/200\n",
    "\n",
    "x=int(input('enter the principal:'))\n",
    "y=int(input('enter the no of years:'))\n",
    "z=float(input('enter rate of interest:'))\n",
    "\n",
    "choice = input('enter emi or si')\n",
    "\n",
    "if choice == 'si':\n",
    "    a=sicalc(x,y,z)\n",
    "    print(a)\n",
    "if choice =='emi':\n",
    "    b=emicalc(x,y,z)\n",
    "    print(b)\n",
    "\n"
   ]
  },
  {
   "cell_type": "code",
   "execution_count": null,
   "id": "4eb62be5-3ea7-4b88-be96-3f71d1765dea",
   "metadata": {},
   "outputs": [],
   "source": [
    "map(function, iterable)\n",
    "\n",
    "iterator - for while \n",
    "iterables - list , set , tuple , string\n"
   ]
  },
  {
   "cell_type": "code",
   "execution_count": 10,
   "id": "a1560654-1337-4fe2-a550-4db7e48508db",
   "metadata": {},
   "outputs": [
    {
     "name": "stdout",
     "output_type": "stream",
     "text": [
      "1\n",
      "4\n",
      "9\n",
      "16\n"
     ]
    }
   ],
   "source": [
    "nums =[1,2,3,4]\n",
    "\n",
    "# [1,4,9,16]\n",
    "\n",
    "for i in nums:\n",
    "    i=i**2\n",
    "    print(i)\n",
    "    new =[]\n",
    "    new.append(i)"
   ]
  },
  {
   "cell_type": "code",
   "execution_count": 13,
   "id": "3a8ff194-37ff-4f6d-bee0-650db657bbf9",
   "metadata": {},
   "outputs": [
    {
     "name": "stdout",
     "output_type": "stream",
     "text": [
      "[1, 4, 9, 16]\n",
      "(1, 4, 9, 16)\n",
      "{16, 1, 4, 9}\n"
     ]
    }
   ],
   "source": [
    "nums = [1,2,3,4]\n",
    "\n",
    "squared = list(map(lambda x:x**2,nums))\n",
    "print(squared)\n",
    "\n",
    "squared = tuple(map(lambda x:x**2,nums))\n",
    "print(squared)\n",
    "\n",
    "squared = set(map(lambda x:x**2,nums))\n",
    "print(squared)"
   ]
  },
  {
   "cell_type": "code",
   "execution_count": null,
   "id": "2bf5a8c9-2b62-4ac0-865f-a02a860db761",
   "metadata": {},
   "outputs": [],
   "source": [
    "filter(function, iterables)"
   ]
  },
  {
   "cell_type": "code",
   "execution_count": 14,
   "id": "5d2e0578-bc5f-4fdc-aa45-6f4542e110c0",
   "metadata": {},
   "outputs": [
    {
     "name": "stdout",
     "output_type": "stream",
     "text": [
      "[2, 4]\n"
     ]
    }
   ],
   "source": [
    "numbers =[1,2,3,4,5,6,7,8]\n",
    "\n",
    "even = list(filter(lambda x:x%2 ==0,nums))\n",
    "print(even)"
   ]
  },
  {
   "cell_type": "code",
   "execution_count": null,
   "id": "c07e4346-7ba1-4ff8-8761-33ed00c87c80",
   "metadata": {},
   "outputs": [],
   "source": [
    "reduce(function,iterables) - all values combine it will give you single value\n",
    "\n",
    "sum , total "
   ]
  },
  {
   "cell_type": "code",
   "execution_count": 15,
   "id": "3b3990c1-10e2-4857-944f-e9ea9ac991df",
   "metadata": {},
   "outputs": [
    {
     "name": "stdout",
     "output_type": "stream",
     "text": [
      "24\n"
     ]
    }
   ],
   "source": [
    "from functools import reduce\n",
    "\n",
    "nums =[1,2,3,4]\n",
    "product=reduce(lambda x,y:x*y,nums)\n",
    "print(product)"
   ]
  },
  {
   "cell_type": "markdown",
   "id": "20dec774-48a7-4ca9-ad06-0d6f7bce1701",
   "metadata": {},
   "source": [
    "exceptional handling - errors handling "
   ]
  },
  {
   "cell_type": "code",
   "execution_count": 17,
   "id": "5f9bf003-3db4-492e-9264-a8371832c7d0",
   "metadata": {},
   "outputs": [
    {
     "name": "stdin",
     "output_type": "stream",
     "text": [
      "enter a value 10\n",
      "enter b value 0\n"
     ]
    },
    {
     "ename": "ZeroDivisionError",
     "evalue": "division by zero",
     "output_type": "error",
     "traceback": [
      "\u001b[1;31m--------------------------------------------------------------------------\u001b[0m",
      "\u001b[1;31mZeroDivisionError\u001b[0m                        Traceback (most recent call last)",
      "Cell \u001b[1;32mIn[17], line 4\u001b[0m\n\u001b[0;32m      1\u001b[0m a\u001b[38;5;241m=\u001b[39m\u001b[38;5;28mint\u001b[39m(\u001b[38;5;28minput\u001b[39m(\u001b[38;5;124m'\u001b[39m\u001b[38;5;124menter a value\u001b[39m\u001b[38;5;124m'\u001b[39m))\n\u001b[0;32m      2\u001b[0m b\u001b[38;5;241m=\u001b[39m\u001b[38;5;28mint\u001b[39m(\u001b[38;5;28minput\u001b[39m(\u001b[38;5;124m'\u001b[39m\u001b[38;5;124menter b value\u001b[39m\u001b[38;5;124m'\u001b[39m))\n\u001b[1;32m----> 4\u001b[0m c\u001b[38;5;241m=\u001b[39ma\u001b[38;5;241m/\u001b[39mb\n\u001b[0;32m      5\u001b[0m \u001b[38;5;28mprint\u001b[39m(c)\n",
      "\u001b[1;31mZeroDivisionError\u001b[0m: division by zero"
     ]
    }
   ],
   "source": [
    "a=int(input('enter a value'))\n",
    "b=int(input('enter b value'))\n",
    "\n",
    "c=a/b\n",
    "print(c)"
   ]
  },
  {
   "cell_type": "code",
   "execution_count": 20,
   "id": "ac48ca3c-dd15-4dee-a5b2-5b5d296ef034",
   "metadata": {},
   "outputs": [
    {
     "name": "stdin",
     "output_type": "stream",
     "text": [
      "enter a value 4.5\n"
     ]
    },
    {
     "name": "stdout",
     "output_type": "stream",
     "text": [
      "please give whole number as the input\n"
     ]
    }
   ],
   "source": [
    "try:\n",
    "    a=int(input('enter a value'))\n",
    "    b=int(input('enter b value'))\n",
    "    c=a/b\n",
    "    print(c)\n",
    "except ZeroDivisionError:\n",
    "    print('please give proper vlue for divisor not suppose to give zero')\n",
    "except ValueError:\n",
    "    print('please give whole number as the input')"
   ]
  },
  {
   "cell_type": "code",
   "execution_count": 21,
   "id": "ebae274e-4251-4304-9b3e-0d754f04cd62",
   "metadata": {},
   "outputs": [
    {
     "name": "stdout",
     "output_type": "stream",
     "text": [
      "3\n",
      "44\n",
      "5\n",
      "6\n"
     ]
    },
    {
     "ename": "IndexError",
     "evalue": "list index out of range",
     "output_type": "error",
     "traceback": [
      "\u001b[1;31m--------------------------------------------------------------------------\u001b[0m",
      "\u001b[1;31mIndexError\u001b[0m                               Traceback (most recent call last)",
      "Cell \u001b[1;32mIn[21], line 4\u001b[0m\n\u001b[0;32m      1\u001b[0m a\u001b[38;5;241m=\u001b[39m[\u001b[38;5;241m3\u001b[39m,\u001b[38;5;241m44\u001b[39m,\u001b[38;5;241m5\u001b[39m,\u001b[38;5;241m6\u001b[39m]\n\u001b[0;32m      3\u001b[0m \u001b[38;5;28;01mfor\u001b[39;00m i \u001b[38;5;129;01min\u001b[39;00m \u001b[38;5;28mrange\u001b[39m(\u001b[38;5;241m0\u001b[39m,\u001b[38;5;241m6\u001b[39m):\n\u001b[1;32m----> 4\u001b[0m     \u001b[38;5;28mprint\u001b[39m(a[i])\n",
      "\u001b[1;31mIndexError\u001b[0m: list index out of range"
     ]
    }
   ],
   "source": [
    "a=[3,44,5,6]\n",
    "\n",
    "for i in range(0,6):\n",
    "    print(a[i])"
   ]
  },
  {
   "cell_type": "code",
   "execution_count": 24,
   "id": "c1910a27-7dc1-4682-ab61-be9dad026253",
   "metadata": {},
   "outputs": [
    {
     "name": "stdout",
     "output_type": "stream",
     "text": [
      "3\n",
      "44\n",
      "5\n",
      "6\n",
      "you are trying to access something out of index\n",
      "list index out of range\n"
     ]
    }
   ],
   "source": [
    "try:\n",
    "    a=[3,44,5,6]\n",
    "    for i in range(0,6):\n",
    "        print(a[i])\n",
    "except IndexError as ve:\n",
    "    print('you are trying to access something out of index')\n",
    "    print(ve)"
   ]
  },
  {
   "cell_type": "code",
   "execution_count": 25,
   "id": "4a23faca-5b13-4b97-a40a-58ea58fc0adf",
   "metadata": {},
   "outputs": [
    {
     "name": "stdout",
     "output_type": "stream",
     "text": [
      "3\n",
      "44\n",
      "5\n",
      "6\n",
      "you are trying to access something out of index\n",
      "list index out of range\n"
     ]
    }
   ],
   "source": [
    "try:\n",
    "    a=[3,44,5,6]\n",
    "    for i in range(0,6):\n",
    "        print(a[i])\n",
    "except IndexError as ve:\n",
    "    print('you are trying to access something out of index')\n",
    "    print(ve)\n",
    "else:\n",
    "    print('executed successfully')"
   ]
  },
  {
   "cell_type": "code",
   "execution_count": 26,
   "id": "48003ea7-e648-4829-9999-23135228f932",
   "metadata": {},
   "outputs": [
    {
     "name": "stdin",
     "output_type": "stream",
     "text": [
      "enter a value 19\n",
      "enter b value 2\n"
     ]
    },
    {
     "name": "stdout",
     "output_type": "stream",
     "text": [
      "9.5\n",
      "executed successfully\n"
     ]
    }
   ],
   "source": [
    "try:\n",
    "    a=int(input('enter a value'))\n",
    "    b=int(input('enter b value'))\n",
    "    c=a/b\n",
    "    print(c)\n",
    "except ZeroDivisionError:\n",
    "    print('please give proper vlue for divisor not suppose to give zero')\n",
    "except ValueError:\n",
    "    print('please give whole number as the input')\n",
    "else:\n",
    "    print('executed successfully')"
   ]
  },
  {
   "cell_type": "code",
   "execution_count": null,
   "id": "887e4641-c1a1-4e37-9ca8-db1a8a9b2510",
   "metadata": {},
   "outputs": [],
   "source": [
    "atm machine - insert atm card - withdraw - no cash \n",
    "\n",
    "1, no money in account\n",
    "2, no money in atm \n",
    "3, account blocked\n",
    "4, accepts only 100rs and 200rs\n",
    "5, forgot pin\n",
    "6, out of service\n",
    "7, limit exitd\n",
    "8, bank server is not connected\n",
    "9, card is broken\n",
    "10, card is expired\n",
    "\n",
    "receit  - withdraw or rejection \n",
    "thsnk yu visit again"
   ]
  },
  {
   "cell_type": "code",
   "execution_count": 28,
   "id": "7ae60530-be65-4da5-82de-7d9af86b967f",
   "metadata": {},
   "outputs": [
    {
     "name": "stdin",
     "output_type": "stream",
     "text": [
      "enter a value 10\n",
      "enter b value 0\n"
     ]
    },
    {
     "name": "stdout",
     "output_type": "stream",
     "text": [
      "please give proper vlue for divisor not suppose to give zero\n",
      "thank you , visit again\n"
     ]
    }
   ],
   "source": [
    "try:\n",
    "    a=int(input('enter a value'))\n",
    "    b=int(input('enter b value'))\n",
    "    c=a/b\n",
    "    print(c)\n",
    "except ZeroDivisionError:\n",
    "    print('please give proper vlue for divisor not suppose to give zero')\n",
    "except ValueError:\n",
    "    print('please give whole number as the input')\n",
    "else:\n",
    "    print('executed successfully')\n",
    "finally:\n",
    "    print('thank you , visit again')"
   ]
  },
  {
   "cell_type": "code",
   "execution_count": null,
   "id": "ce067659-7214-419c-9f5b-a02bf291f0d0",
   "metadata": {},
   "outputs": [],
   "source": [
    "Raise "
   ]
  },
  {
   "cell_type": "code",
   "execution_count": 29,
   "id": "845574bc-afbc-4cde-880a-81c8ca82c399",
   "metadata": {},
   "outputs": [
    {
     "name": "stdin",
     "output_type": "stream",
     "text": [
      "enter the age 70\n"
     ]
    },
    {
     "name": "stdout",
     "output_type": "stream",
     "text": [
      "sorry we cannot process your application\n"
     ]
    }
   ],
   "source": [
    "try:\n",
    "    age = int(input('enter the age'))\n",
    "    if age>=60:\n",
    "        raise Exception('sorry we cannot process your application')\n",
    "    else:\n",
    "        print('you can apply')\n",
    "except Exception as e:\n",
    "    print(e)"
   ]
  },
  {
   "cell_type": "code",
   "execution_count": 30,
   "id": "f81d651d-d906-46f5-98fe-6584575d42d0",
   "metadata": {},
   "outputs": [
    {
     "ename": "IndentationError",
     "evalue": "expected an indented block after 'for' statement on line 1 (2129355989.py, line 2)",
     "output_type": "error",
     "traceback": [
      "\u001b[1;36m  Cell \u001b[1;32mIn[30], line 2\u001b[1;36m\u001b[0m\n\u001b[1;33m    print(i)\u001b[0m\n\u001b[1;37m    ^\u001b[0m\n\u001b[1;31mIndentationError\u001b[0m\u001b[1;31m:\u001b[0m expected an indented block after 'for' statement on line 1\n"
     ]
    }
   ],
   "source": [
    "for i in range(0,5):\n",
    "print(i)"
   ]
  },
  {
   "cell_type": "code",
   "execution_count": 32,
   "id": "6586653e-5332-49fd-bea2-ecab370818ca",
   "metadata": {},
   "outputs": [
    {
     "ename": "NameError",
     "evalue": "name 'new1232' is not defined",
     "output_type": "error",
     "traceback": [
      "\u001b[1;31m--------------------------------------------------------------------------\u001b[0m",
      "\u001b[1;31mNameError\u001b[0m                                Traceback (most recent call last)",
      "Cell \u001b[1;32mIn[32], line 1\u001b[0m\n\u001b[1;32m----> 1\u001b[0m \u001b[38;5;28mprint\u001b[39m(new1232)\n",
      "\u001b[1;31mNameError\u001b[0m: name 'new1232' is not defined"
     ]
    }
   ],
   "source": [
    "print(new1232)"
   ]
  },
  {
   "cell_type": "code",
   "execution_count": 33,
   "id": "8132ea24-d9f7-426c-a412-90390d3def78",
   "metadata": {},
   "outputs": [
    {
     "ename": "NameError",
     "evalue": "name 'math' is not defined",
     "output_type": "error",
     "traceback": [
      "\u001b[1;31m--------------------------------------------------------------------------\u001b[0m",
      "\u001b[1;31mNameError\u001b[0m                                Traceback (most recent call last)",
      "Cell \u001b[1;32mIn[33], line 1\u001b[0m\n\u001b[1;32m----> 1\u001b[0m math(priya)\n",
      "\u001b[1;31mNameError\u001b[0m: name 'math' is not defined"
     ]
    }
   ],
   "source": [
    "math(priya)"
   ]
  },
  {
   "cell_type": "code",
   "execution_count": 34,
   "id": "0a96a147-e554-4022-a7d1-e3f22bfc6fef",
   "metadata": {},
   "outputs": [
    {
     "ename": "NameError",
     "evalue": "name 'hherreji787877' is not defined",
     "output_type": "error",
     "traceback": [
      "\u001b[1;31m--------------------------------------------------------------------------\u001b[0m",
      "\u001b[1;31mNameError\u001b[0m                                Traceback (most recent call last)",
      "Cell \u001b[1;32mIn[34], line 1\u001b[0m\n\u001b[1;32m----> 1\u001b[0m \u001b[38;5;28mprint\u001b[39m(\u001b[38;5;28mfloat\u001b[39m(hherreji787877))\n",
      "\u001b[1;31mNameError\u001b[0m: name 'hherreji787877' is not defined"
     ]
    }
   ],
   "source": [
    "print(float(hherreji787877))"
   ]
  },
  {
   "cell_type": "code",
   "execution_count": 35,
   "id": "c174fb92-b9c4-4779-898b-dedfaf50ec9b",
   "metadata": {},
   "outputs": [
    {
     "ename": "SyntaxError",
     "evalue": "invalid decimal literal (176812569.py, line 1)",
     "output_type": "error",
     "traceback": [
      "\u001b[1;36m  Cell \u001b[1;32mIn[35], line 1\u001b[1;36m\u001b[0m\n\u001b[1;33m    print(float(3344yy))\u001b[0m\n\u001b[1;37m                   ^\u001b[0m\n\u001b[1;31mSyntaxError\u001b[0m\u001b[1;31m:\u001b[0m invalid decimal literal\n"
     ]
    }
   ],
   "source": [
    "print(float(3344yy))"
   ]
  },
  {
   "cell_type": "code",
   "execution_count": null,
   "id": "57b77d7b-3ffa-4756-909f-c52d6c9f1e7c",
   "metadata": {},
   "outputs": [],
   "source": [
    "zerodivision error\n",
    "input error\n",
    "syntax error\n",
    "indentation error\n",
    "key error\n",
    "filenotfounderror  - file handling"
   ]
  },
  {
   "cell_type": "code",
   "execution_count": null,
   "id": "c4924b22-691d-44cb-9775-2e5aa5019e06",
   "metadata": {},
   "outputs": [],
   "source": []
  },
  {
   "cell_type": "code",
   "execution_count": null,
   "id": "d59ddbfb-8da1-438d-b3e9-b22623ae0205",
   "metadata": {},
   "outputs": [],
   "source": []
  },
  {
   "cell_type": "code",
   "execution_count": null,
   "id": "7135126d-f27d-43ea-9769-eb6815ae4439",
   "metadata": {},
   "outputs": [],
   "source": []
  }
 ],
 "metadata": {
  "kernelspec": {
   "display_name": "Python [conda env:base] *",
   "language": "python",
   "name": "conda-base-py"
  },
  "language_info": {
   "codemirror_mode": {
    "name": "ipython",
    "version": 3
   },
   "file_extension": ".py",
   "mimetype": "text/x-python",
   "name": "python",
   "nbconvert_exporter": "python",
   "pygments_lexer": "ipython3",
   "version": "3.12.4"
  }
 },
 "nbformat": 4,
 "nbformat_minor": 5
}
