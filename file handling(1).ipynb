{
 "cells": [
  {
   "cell_type": "markdown",
   "id": "3db9dee8-92cf-44ab-b83b-9d774934ecd3",
   "metadata": {},
   "source": [
    "file handling"
   ]
  },
  {
   "cell_type": "code",
   "execution_count": 1,
   "id": "09c2395e-53ab-45e5-b054-f8ab2c2640f5",
   "metadata": {},
   "outputs": [
    {
     "ename": "FileNotFoundError",
     "evalue": "[Errno 2] No such file or directory: 'mydocument.txt'",
     "output_type": "error",
     "traceback": [
      "\u001b[1;31m--------------------------------------------------------------------------\u001b[0m",
      "\u001b[1;31mFileNotFoundError\u001b[0m                        Traceback (most recent call last)",
      "Cell \u001b[1;32mIn[1], line 1\u001b[0m\n\u001b[1;32m----> 1\u001b[0m f\u001b[38;5;241m=\u001b[39m\u001b[38;5;28mopen\u001b[39m(\u001b[38;5;124m'\u001b[39m\u001b[38;5;124mmydocument.txt\u001b[39m\u001b[38;5;124m'\u001b[39m)\n",
      "File \u001b[1;32m~\\anaconda3\\Lib\\site-packages\\IPython\\core\\interactiveshell.py:324\u001b[0m, in \u001b[0;36m_modified_open\u001b[1;34m(file, *args, **kwargs)\u001b[0m\n\u001b[0;32m    317\u001b[0m \u001b[38;5;28;01mif\u001b[39;00m file \u001b[38;5;129;01min\u001b[39;00m {\u001b[38;5;241m0\u001b[39m, \u001b[38;5;241m1\u001b[39m, \u001b[38;5;241m2\u001b[39m}:\n\u001b[0;32m    318\u001b[0m     \u001b[38;5;28;01mraise\u001b[39;00m \u001b[38;5;167;01mValueError\u001b[39;00m(\n\u001b[0;32m    319\u001b[0m         \u001b[38;5;124mf\u001b[39m\u001b[38;5;124m\"\u001b[39m\u001b[38;5;124mIPython won\u001b[39m\u001b[38;5;124m'\u001b[39m\u001b[38;5;124mt let you open fd=\u001b[39m\u001b[38;5;132;01m{\u001b[39;00mfile\u001b[38;5;132;01m}\u001b[39;00m\u001b[38;5;124m by default \u001b[39m\u001b[38;5;124m\"\u001b[39m\n\u001b[0;32m    320\u001b[0m         \u001b[38;5;124m\"\u001b[39m\u001b[38;5;124mas it is likely to crash IPython. If you know what you are doing, \u001b[39m\u001b[38;5;124m\"\u001b[39m\n\u001b[0;32m    321\u001b[0m         \u001b[38;5;124m\"\u001b[39m\u001b[38;5;124myou can use builtins\u001b[39m\u001b[38;5;124m'\u001b[39m\u001b[38;5;124m open.\u001b[39m\u001b[38;5;124m\"\u001b[39m\n\u001b[0;32m    322\u001b[0m     )\n\u001b[1;32m--> 324\u001b[0m \u001b[38;5;28;01mreturn\u001b[39;00m io_open(file, \u001b[38;5;241m*\u001b[39margs, \u001b[38;5;241m*\u001b[39m\u001b[38;5;241m*\u001b[39mkwargs)\n",
      "\u001b[1;31mFileNotFoundError\u001b[0m: [Errno 2] No such file or directory: 'mydocument.txt'"
     ]
    }
   ],
   "source": [
    "f=open('mydocument.txt')"
   ]
  },
  {
   "cell_type": "code",
   "execution_count": 2,
   "id": "88993c86-419c-45e4-82c5-300de91b6903",
   "metadata": {},
   "outputs": [
    {
     "name": "stdout",
     "output_type": "stream",
     "text": [
      "file is not found or missing\n"
     ]
    }
   ],
   "source": [
    "try:\n",
    "    f=open('mydocument.tx')\n",
    "except FileNotFoundError:\n",
    "    print('file is not found or missing')"
   ]
  },
  {
   "cell_type": "code",
   "execution_count": 3,
   "id": "18e0c688-6c1b-4f5d-a796-7b9228eb5d97",
   "metadata": {},
   "outputs": [],
   "source": [
    "try:\n",
    "    f=open('myfirstdocument.txt')\n",
    "except FileNotFoundError:\n",
    "    print('file is not found or missing')"
   ]
  },
  {
   "cell_type": "code",
   "execution_count": 5,
   "id": "524284a4-1a91-4c65-b5f2-8199af7bfc32",
   "metadata": {},
   "outputs": [],
   "source": [
    "try:\n",
    "    f=open('C:\\\\Users\\\\Lenovo\\\\Desktop\\\\myseconddocument.txt')\n",
    "except FileNotFoundError:\n",
    "    print('file is not found or missing')"
   ]
  },
  {
   "cell_type": "code",
   "execution_count": 6,
   "id": "961c3739-894a-4558-94bd-1f53baa30c9d",
   "metadata": {},
   "outputs": [
    {
     "name": "stdout",
     "output_type": "stream",
     "text": [
      "hi good morning\n"
     ]
    }
   ],
   "source": [
    "try:\n",
    "    f=open('myfirstdocument.txt','rt') # read\n",
    "    print(f.read())\n",
    "except FileNotFoundError:\n",
    "    print('file is not found or missing')"
   ]
  },
  {
   "cell_type": "code",
   "execution_count": 7,
   "id": "f1418859-408a-411d-86f4-17a9fe4b96a3",
   "metadata": {},
   "outputs": [
    {
     "name": "stdout",
     "output_type": "stream",
     "text": [
      "hi go\n"
     ]
    }
   ],
   "source": [
    "try:\n",
    "    f=open('myfirstdocument.txt','rt') # read\n",
    "    print(f.read(5))\n",
    "except FileNotFoundError:\n",
    "    print('file is not found or missing')"
   ]
  },
  {
   "cell_type": "code",
   "execution_count": 8,
   "id": "fdc45aed-5f5c-49ee-b453-ee93c1e2f454",
   "metadata": {},
   "outputs": [
    {
     "name": "stdout",
     "output_type": "stream",
     "text": [
      "hi good morning\n",
      "\n",
      "Lorem Ipsum is simply dummy text of \n",
      "the printing and typesetting industry. \n",
      "Lorem Ipsum has been the industry's standard \n",
      "dummy text ever since the 1500s, when an unknown \n",
      "printer took a galley of type and scrambled it to \n",
      "make a type specimen book. It has survived not only f\n",
      "ive centuries, but also the leap into electronic typesetting,\n",
      " remaining essentially unchanged. It was popularised in the 1960s \n",
      "with the release of Letraset sheets containing Lorem Ipsum passages,\n",
      " and more recently with desktop publishing software like Aldus \n",
      "PageMaker including versions of Lorem Ipsum.\n"
     ]
    }
   ],
   "source": [
    "try:\n",
    "    f=open('myfirstdocument.txt','rt') # read\n",
    "    print(f.read())\n",
    "except FileNotFoundError:\n",
    "    print('file is not found or missing')"
   ]
  },
  {
   "cell_type": "code",
   "execution_count": 10,
   "id": "f723a42a-05c1-4cb7-942c-e489e4e91097",
   "metadata": {},
   "outputs": [
    {
     "name": "stdout",
     "output_type": "stream",
     "text": [
      "['hi good morning\\n', '\\n', '    Lorem Ipsum is simply dummy text of \\n', 'the printing and typesetting industry. \\n', \"Lorem Ipsum has been the industry's standard \\n\", 'dummy text ever since the 1500s, when an unknown \\n', 'printer took a galley of type and scrambled it to \\n', 'make a type specimen book. It has survived not only f\\n', 'ive centuries, but also the leap into electronic typesetting,\\n', ' remaining essentially unchanged. It was popularised in the 1960s \\n', 'with the release of Letraset sheets containing Lorem Ipsum passages,\\n', ' and more recently with desktop publishing software like Aldus \\n', 'PageMaker including versions of Lorem Ipsum.']\n"
     ]
    }
   ],
   "source": [
    "try:\n",
    "    f=open('myfirstdocument.txt','rt') # read\n",
    "    print(f.readlines())\n",
    "except FileNotFoundError:\n",
    "    print('file is not found or missing')"
   ]
  },
  {
   "cell_type": "code",
   "execution_count": 11,
   "id": "14af6377-e52e-4e38-86d7-8d4820c19e55",
   "metadata": {},
   "outputs": [],
   "source": [
    "try:\n",
    "    f=open('myfirstdocument.txt','a') # append\n",
    "    f.write('additonal content')\n",
    "    \n",
    "except FileNotFoundError:\n",
    "    print('file is not found or missing')"
   ]
  },
  {
   "cell_type": "code",
   "execution_count": 12,
   "id": "af9b77a2-9d8d-4f86-8bee-dbeb1058c371",
   "metadata": {},
   "outputs": [
    {
     "name": "stdout",
     "output_type": "stream",
     "text": [
      "hi good morning\n",
      "\n",
      "    Lorem Ipsum is simply dummy text of \n",
      "the printing and typesetting industry. \n",
      "Lorem Ipsum has been the industry's standard \n",
      "dummy text ever since the 1500s, when an unknown \n",
      "printer took a galley of type and scrambled it to \n",
      "make a type specimen book. It has survived not only f\n",
      "ive centuries, but also the leap into electronic typesetting,\n",
      " remaining essentially unchanged. It was popularised in the 1960s \n",
      "with the release of Letraset sheets containing Lorem Ipsum passages,\n",
      " and more recently with desktop publishing software like Aldus \n",
      "PageMaker including versions of Lorem Ipsum.additonal content\n"
     ]
    }
   ],
   "source": [
    "try:\n",
    "    f=open('myfirstdocument.txt','rt') # read\n",
    "    print(f.read())\n",
    "except FileNotFoundError:\n",
    "    print('file is not found or missing')"
   ]
  },
  {
   "cell_type": "code",
   "execution_count": 13,
   "id": "b0caedcf-7d59-4172-bd3e-d454f12eacf1",
   "metadata": {},
   "outputs": [],
   "source": [
    "try:\n",
    "    f=open('myfirstdocument.txt','w') # overwrite\n",
    "    f.write('python')\n",
    "except FileNotFoundError:\n",
    "    print('file is not found or missing')"
   ]
  },
  {
   "cell_type": "code",
   "execution_count": 14,
   "id": "a0169ba0-01d7-442d-bfb0-5bb821ef6c92",
   "metadata": {},
   "outputs": [
    {
     "name": "stdout",
     "output_type": "stream",
     "text": [
      "python\n"
     ]
    }
   ],
   "source": [
    "try:\n",
    "    f=open('myfirstdocument.txt','rt') # read\n",
    "    print(f.read())\n",
    "except FileNotFoundError:\n",
    "    print('file is not found or missing')"
   ]
  },
  {
   "cell_type": "code",
   "execution_count": 17,
   "id": "8fc1249e-f0f0-473b-9c23-85e180fe044a",
   "metadata": {},
   "outputs": [],
   "source": [
    "try:\n",
    "    f=open('data.txt',\"x\") # x for creating\n",
    "except FileExistError:\n",
    "    print('file name is already present')\n",
    "finally:\n",
    "    f.close()"
   ]
  },
  {
   "cell_type": "code",
   "execution_count": 18,
   "id": "f6f989bf-467b-42ea-afef-c61aca818e7d",
   "metadata": {},
   "outputs": [],
   "source": [
    "import os\n",
    "\n",
    "try:\n",
    "    os.remove('data.txt')\n",
    "except FileNotFoundError:\n",
    "    print('file is missing')"
   ]
  },
  {
   "cell_type": "code",
   "execution_count": null,
   "id": "8af5d72e-8aff-4019-89ea-427d8068cb63",
   "metadata": {},
   "outputs": [],
   "source": []
  },
  {
   "cell_type": "code",
   "execution_count": null,
   "id": "faf8ed40-e5f8-4f37-935e-a11abdec4327",
   "metadata": {},
   "outputs": [],
   "source": []
  },
  {
   "cell_type": "code",
   "execution_count": null,
   "id": "6274c773-2b2e-459c-aa2b-189ea4fb32e1",
   "metadata": {},
   "outputs": [],
   "source": []
  },
  {
   "cell_type": "code",
   "execution_count": null,
   "id": "e2a9d4a0-18e0-4799-a940-34a4494aff37",
   "metadata": {},
   "outputs": [],
   "source": []
  },
  {
   "cell_type": "code",
   "execution_count": null,
   "id": "057f6526-fb00-42e8-b4d9-47794ed4bafe",
   "metadata": {},
   "outputs": [],
   "source": []
  },
  {
   "cell_type": "code",
   "execution_count": null,
   "id": "bdb2c929-baa9-4caa-864a-a63d376db661",
   "metadata": {},
   "outputs": [],
   "source": []
  },
  {
   "cell_type": "code",
   "execution_count": null,
   "id": "968d88da-d7c1-47a1-842f-f1e4bdb27bf9",
   "metadata": {},
   "outputs": [],
   "source": []
  }
 ],
 "metadata": {
  "kernelspec": {
   "display_name": "Python [conda env:base] *",
   "language": "python",
   "name": "conda-base-py"
  },
  "language_info": {
   "codemirror_mode": {
    "name": "ipython",
    "version": 3
   },
   "file_extension": ".py",
   "mimetype": "text/x-python",
   "name": "python",
   "nbconvert_exporter": "python",
   "pygments_lexer": "ipython3",
   "version": "3.12.4"
  }
 },
 "nbformat": 4,
 "nbformat_minor": 5
}
